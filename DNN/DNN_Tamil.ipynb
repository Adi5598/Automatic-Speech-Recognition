{
  "nbformat": 4,
  "nbformat_minor": 0,
  "metadata": {
    "colab": {
      "name": "DNN_Tamil.ipynb",
      "provenance": [],
      "collapsed_sections": []
    },
    "kernelspec": {
      "name": "python3",
      "display_name": "Python 3"
    }
  },
  "cells": [
    {
      "cell_type": "markdown",
      "metadata": {
        "id": "iBwohoGR4pBY",
        "colab_type": "text"
      },
      "source": [
        "**DEEP NEURAL NETWORK FOR TAMIL DIGITS RECOGNITION**"
      ]
    },
    {
      "cell_type": "code",
      "metadata": {
        "id": "JXNRrcSFBuoC",
        "colab_type": "code",
        "outputId": "59eea556-eb12-4bde-cde0-bf8b63dc861c",
        "colab": {
          "base_uri": "https://localhost:8080/",
          "height": 122
        }
      },
      "source": [
        "from google.colab import drive\n",
        "drive.mount('/content/gdrive')"
      ],
      "execution_count": 1,
      "outputs": [
        {
          "output_type": "stream",
          "text": [
            "Go to this URL in a browser: https://accounts.google.com/o/oauth2/auth?client_id=947318989803-6bn6qk8qdgf4n4g3pfee6491hc0brc4i.apps.googleusercontent.com&redirect_uri=urn%3aietf%3awg%3aoauth%3a2.0%3aoob&response_type=code&scope=email%20https%3a%2f%2fwww.googleapis.com%2fauth%2fdocs.test%20https%3a%2f%2fwww.googleapis.com%2fauth%2fdrive%20https%3a%2f%2fwww.googleapis.com%2fauth%2fdrive.photos.readonly%20https%3a%2f%2fwww.googleapis.com%2fauth%2fpeopleapi.readonly\n",
            "\n",
            "Enter your authorization code:\n",
            "··········\n",
            "Mounted at /content/gdrive\n"
          ],
          "name": "stdout"
        }
      ]
    },
    {
      "cell_type": "markdown",
      "metadata": {
        "id": "5xaGwhNR42pX",
        "colab_type": "text"
      },
      "source": [
        "**IMPORTS AND LIBRARIES**"
      ]
    },
    {
      "cell_type": "code",
      "metadata": {
        "id": "-D_m0ivRCgxF",
        "colab_type": "code",
        "colab": {}
      },
      "source": [
        "import os\n",
        "import numpy as np\n",
        "import pandas as pd\n",
        "from matplotlib import pyplot as plt\n",
        "from tqdm import tqdm\n",
        "import glob\n",
        "import librosa\n",
        "import datetime as dt\n",
        "import torch\n",
        "import torch.nn as nn\n",
        "import torch.nn.functional as F\n",
        "import torch.optim as optim\n",
        "from sklearn.metrics import confusion_matrix"
      ],
      "execution_count": 0,
      "outputs": []
    },
    {
      "cell_type": "markdown",
      "metadata": {
        "id": "Rz7ppGWXJHN8",
        "colab_type": "text"
      },
      "source": [
        "**DATA PRE-PROCESSING**"
      ]
    },
    {
      "cell_type": "code",
      "metadata": {
        "id": "bekQeDIYC2hL",
        "colab_type": "code",
        "colab": {}
      },
      "source": [
        "os.chdir(\"/content/gdrive/My Drive/SRU Project/Tamil Digits\")\n",
        "lis = os.listdir()\n",
        "lis\n",
        "\n",
        "\n",
        "d = {'One' : 1,'Two' : 2,'Three' : 3, 'Four' : 4, 'Five' : 5, 'Six' : 6, 'Seven' : 7, 'Eight' : 8, 'Nine' : 9, 'Zero': 0}\n",
        "data2 = []\n",
        "for i in (range(len(lis) - 1)):\n",
        "  print(lis[i])\n",
        "  k = len(lis[i])\n",
        "  for file in glob.glob(lis[i] + \"/\" + \"*.wav\"):\n",
        "    y, sr = librosa.load(file)\n",
        "    mfccs = librosa.feature.mfcc(y = y)\n",
        "    data2.append([mfccs , d[lis[i]]])\n",
        "\n",
        "np.random.shuffle(data2)\n",
        "#print(data2)\n",
        "\n",
        "shp = []\n",
        "for i in range(len(data2)):\n",
        "  shp.append(data2[i][0].shape[1])\n",
        "\n",
        "#print(max(shp))\n",
        "z = max(shp)\n",
        "\n",
        "np.save(\"mfcc_tamil\" , data2)"
      ],
      "execution_count": 0,
      "outputs": []
    },
    {
      "cell_type": "code",
      "metadata": {
        "id": "Qvsc6D2X0Ss9",
        "colab_type": "code",
        "colab": {}
      },
      "source": [
        "data2 = np.load('/content/gdrive/My Drive/SRU Project/Tamil Digits/mfcc_tamil.npy' , allow_pickle= True)\n",
        "\n",
        "x = []\n",
        "y = []\n",
        "for i in range(len(data2)):\n",
        "  val = data2[i][0].shape[1]\n",
        "  if(val != z):\n",
        "    zero = np.zeros((20 , z - val))\n",
        "    new_data = np.append(data2[i][0] , zero , axis = 1)\n",
        "    x.append(new_data)\n",
        "  else:\n",
        "    x.append(data2[i][0])\n",
        "  y.append(data2[i][1])\n",
        "\n",
        "x = np.array(x)\n",
        "y = np.array(y)\n",
        "\n",
        "train_x = x[:220]\n",
        "train_y = y[:220]\n",
        "test_x = x[210:]\n",
        "test_y = y[210:]\n",
        "\n",
        "print(\"Training Data Dimensions = \" + str(train_x.shape))\n",
        "print(\"Training Labels Dimensions = \" + str(train_y.shape))\n",
        "print(\"Test Data Dimensions = \" + str(test_x.shape))\n",
        "print(\"Test Labels Dimensions = \" + str(test_y.shape))"
      ],
      "execution_count": 0,
      "outputs": []
    },
    {
      "cell_type": "markdown",
      "metadata": {
        "id": "_V3lUNP0JOHy",
        "colab_type": "text"
      },
      "source": [
        "**LSTM MODEL**"
      ]
    },
    {
      "cell_type": "code",
      "metadata": {
        "id": "twO1jRc2KQSf",
        "colab_type": "code",
        "outputId": "8fc11443-8346-45fb-a0de-6c8bf3707c4b",
        "colab": {
          "base_uri": "https://localhost:8080/",
          "height": 1000
        }
      },
      "source": [
        "class LSTM(nn.Module):\n",
        "\n",
        "\n",
        "  def __init__(self , inp, hidden, batch, out, layers):\n",
        "\n",
        "    super(LSTM, self).__init__()\n",
        "\n",
        "\n",
        "    self.inp = inp\n",
        "    self.hidden = hidden\n",
        "    self.batch = batch\n",
        "    self.out = out\n",
        "    self.layers = layers\n",
        "\n",
        "\n",
        "    self.rnn = nn.LSTM(self.inp, self.hidden, self.layers, dropout = 0.1)\n",
        "    self.fc = nn.Sequential(nn.Linear(self.hidden, self.out))\n",
        "\n",
        "\n",
        "  \n",
        "  def forward(self, x):\n",
        "\n",
        "    output , hide = self.rnn(x)\n",
        "    lstm_out = self.fc(output[-1])\n",
        "    prediction = F.softmax(lstm_out, dim = 1)\n",
        "\n",
        "    return prediction\n",
        "\n",
        "train_y_ohe = []\n",
        "for i  in range(len(train_y)):\n",
        "  k = np.eye(10)[int(train_y[i])]\n",
        "  train_y_ohe.append(k)\n",
        "\n",
        "test_y_ohe = []\n",
        "for i  in range(len(test_y)):\n",
        "  k = np.eye(10)[int(test_y[i])]\n",
        "  test_y_ohe.append(k)\n",
        "\n",
        "train_y_ohe = np.array(train_y_ohe)\n",
        "test_y_ohe = np.array(test_y_ohe)\n",
        "print(test_y_ohe.shape)\n",
        "print(train_y_ohe.shape)\n",
        "\n",
        "batch = 20\n",
        "epochs = 100\n",
        "loss = []\n",
        "\n",
        "\n",
        "lstm = LSTM(inp = 81, hidden = 10, batch = batch, out = 10, layers=2)\n",
        "#loss_function = nn.CrossEntropyLoss()\n",
        "loss_function = nn.MSELoss()\n",
        "optimizer = optim.Adam(lstm.parameters(), lr=0.01)\n",
        "\n",
        "for ep in range(epochs):\n",
        "\n",
        "\n",
        "  for i in range(0, len(train_x), batch):\n",
        "\n",
        "\n",
        "    batch_x = torch.Tensor(train_x[i : i + batch]).permute(1,0,2)\n",
        "    #batch_y = torch.Tensor(train_y[i : i + batch]).type(torch.LongTensor)\n",
        "    batch_y = torch.Tensor(train_y_ohe[i : i + batch])#.type(torch.LongTensor)\n",
        "\n",
        "\n",
        "    lstm.zero_grad()\n",
        "    pred = lstm(batch_x)\n",
        "    los = loss_function(pred , batch_y)\n",
        "    los.backward()\n",
        "    optimizer.step()\n",
        "\n",
        "\n",
        "  print('EPOCH = ' + str(ep))\n",
        "  print(los)\n",
        "  loss.append(los)\n",
        "\n",
        "\n",
        "correct = 0\n",
        "total = 0\n",
        "predict = []\n",
        "real = []\n",
        "\n",
        "\n",
        "with torch.no_grad():\n",
        "\n",
        "\n",
        "  #real_class = torch.Tensor(test_y).type(torch.LongTensor)\n",
        "  real_class = torch.Tensor(train_y_ohe)#.type(torch.LongTensor)\n",
        "  scores = lstm(torch.Tensor(train_x).permute(1,0,2))\n",
        "\n",
        "print(real_class)\n",
        "print(scores)\n",
        "\n",
        "\n",
        "array = []\n",
        "for i in range(len(scores)):\n",
        "  k = scores[i]\n",
        "  m = torch.max(k)\n",
        "  for j in range(len(k)):\n",
        "    if(k[j] == m):\n",
        "      array.append(j)\n",
        "      break\n",
        "\n",
        "for i in range(len(scores)):\n",
        "  if(array[i] == int(train_y[i])):\n",
        "    correct = correct + 1\n",
        "\n",
        "print(\"Accuracy = \" + str(correct*100/len(scores)))"
      ],
      "execution_count": 30,
      "outputs": [
        {
          "output_type": "stream",
          "text": [
            "Training Data Dimensions = (220, 20, 81)\n",
            "Training Labels Dimensions = (220,)\n",
            "Test Data Dimensions = (20, 20, 81)\n",
            "Test Labels Dimensions = (20,)\n",
            "(20, 10)\n",
            "(220, 10)\n",
            "EPOCH = 0\n",
            "tensor(0.0896, grad_fn=<MseLossBackward>)\n",
            "EPOCH = 1\n",
            "tensor(0.0886, grad_fn=<MseLossBackward>)\n",
            "EPOCH = 2\n",
            "tensor(0.0876, grad_fn=<MseLossBackward>)\n",
            "EPOCH = 3\n",
            "tensor(0.0847, grad_fn=<MseLossBackward>)\n",
            "EPOCH = 4\n",
            "tensor(0.0815, grad_fn=<MseLossBackward>)\n",
            "EPOCH = 5\n",
            "tensor(0.0765, grad_fn=<MseLossBackward>)\n",
            "EPOCH = 6\n",
            "tensor(0.0689, grad_fn=<MseLossBackward>)\n",
            "EPOCH = 7\n",
            "tensor(0.0736, grad_fn=<MseLossBackward>)\n",
            "EPOCH = 8\n",
            "tensor(0.0664, grad_fn=<MseLossBackward>)\n",
            "EPOCH = 9\n",
            "tensor(0.0630, grad_fn=<MseLossBackward>)\n",
            "EPOCH = 10\n",
            "tensor(0.0594, grad_fn=<MseLossBackward>)\n",
            "EPOCH = 11\n",
            "tensor(0.0566, grad_fn=<MseLossBackward>)\n",
            "EPOCH = 12\n",
            "tensor(0.0627, grad_fn=<MseLossBackward>)\n",
            "EPOCH = 13\n",
            "tensor(0.0516, grad_fn=<MseLossBackward>)\n",
            "EPOCH = 14\n",
            "tensor(0.0507, grad_fn=<MseLossBackward>)\n",
            "EPOCH = 15\n",
            "tensor(0.0601, grad_fn=<MseLossBackward>)\n",
            "EPOCH = 16\n",
            "tensor(0.0590, grad_fn=<MseLossBackward>)\n",
            "EPOCH = 17\n",
            "tensor(0.0571, grad_fn=<MseLossBackward>)\n",
            "EPOCH = 18\n",
            "tensor(0.0473, grad_fn=<MseLossBackward>)\n",
            "EPOCH = 19\n",
            "tensor(0.0503, grad_fn=<MseLossBackward>)\n",
            "EPOCH = 20\n",
            "tensor(0.0371, grad_fn=<MseLossBackward>)\n",
            "EPOCH = 21\n",
            "tensor(0.0360, grad_fn=<MseLossBackward>)\n",
            "EPOCH = 22\n",
            "tensor(0.0360, grad_fn=<MseLossBackward>)\n",
            "EPOCH = 23\n",
            "tensor(0.0300, grad_fn=<MseLossBackward>)\n",
            "EPOCH = 24\n",
            "tensor(0.0345, grad_fn=<MseLossBackward>)\n",
            "EPOCH = 25\n",
            "tensor(0.0503, grad_fn=<MseLossBackward>)\n",
            "EPOCH = 26\n",
            "tensor(0.0598, grad_fn=<MseLossBackward>)\n",
            "EPOCH = 27\n",
            "tensor(0.0448, grad_fn=<MseLossBackward>)\n",
            "EPOCH = 28\n",
            "tensor(0.0375, grad_fn=<MseLossBackward>)\n",
            "EPOCH = 29\n",
            "tensor(0.0426, grad_fn=<MseLossBackward>)\n",
            "EPOCH = 30\n",
            "tensor(0.0504, grad_fn=<MseLossBackward>)\n",
            "EPOCH = 31\n",
            "tensor(0.0465, grad_fn=<MseLossBackward>)\n",
            "EPOCH = 32\n",
            "tensor(0.0447, grad_fn=<MseLossBackward>)\n",
            "EPOCH = 33\n",
            "tensor(0.0403, grad_fn=<MseLossBackward>)\n",
            "EPOCH = 34\n",
            "tensor(0.0449, grad_fn=<MseLossBackward>)\n",
            "EPOCH = 35\n",
            "tensor(0.0331, grad_fn=<MseLossBackward>)\n",
            "EPOCH = 36\n",
            "tensor(0.0561, grad_fn=<MseLossBackward>)\n",
            "EPOCH = 37\n",
            "tensor(0.0385, grad_fn=<MseLossBackward>)\n",
            "EPOCH = 38\n",
            "tensor(0.0286, grad_fn=<MseLossBackward>)\n",
            "EPOCH = 39\n",
            "tensor(0.0357, grad_fn=<MseLossBackward>)\n",
            "EPOCH = 40\n",
            "tensor(0.0256, grad_fn=<MseLossBackward>)\n",
            "EPOCH = 41\n",
            "tensor(0.0408, grad_fn=<MseLossBackward>)\n",
            "EPOCH = 42\n",
            "tensor(0.0505, grad_fn=<MseLossBackward>)\n",
            "EPOCH = 43\n",
            "tensor(0.0329, grad_fn=<MseLossBackward>)\n",
            "EPOCH = 44\n",
            "tensor(0.0384, grad_fn=<MseLossBackward>)\n",
            "EPOCH = 45\n",
            "tensor(0.0322, grad_fn=<MseLossBackward>)\n",
            "EPOCH = 46\n",
            "tensor(0.0441, grad_fn=<MseLossBackward>)\n",
            "EPOCH = 47\n",
            "tensor(0.0287, grad_fn=<MseLossBackward>)\n",
            "EPOCH = 48\n",
            "tensor(0.0333, grad_fn=<MseLossBackward>)\n",
            "EPOCH = 49\n",
            "tensor(0.0345, grad_fn=<MseLossBackward>)\n",
            "EPOCH = 50\n",
            "tensor(0.0320, grad_fn=<MseLossBackward>)\n",
            "EPOCH = 51\n",
            "tensor(0.0379, grad_fn=<MseLossBackward>)\n",
            "EPOCH = 52\n",
            "tensor(0.0310, grad_fn=<MseLossBackward>)\n",
            "EPOCH = 53\n",
            "tensor(0.0341, grad_fn=<MseLossBackward>)\n",
            "EPOCH = 54\n",
            "tensor(0.0409, grad_fn=<MseLossBackward>)\n",
            "EPOCH = 55\n",
            "tensor(0.0382, grad_fn=<MseLossBackward>)\n",
            "EPOCH = 56\n",
            "tensor(0.0421, grad_fn=<MseLossBackward>)\n",
            "EPOCH = 57\n",
            "tensor(0.0389, grad_fn=<MseLossBackward>)\n",
            "EPOCH = 58\n",
            "tensor(0.0517, grad_fn=<MseLossBackward>)\n",
            "EPOCH = 59\n",
            "tensor(0.0352, grad_fn=<MseLossBackward>)\n",
            "EPOCH = 60\n",
            "tensor(0.0261, grad_fn=<MseLossBackward>)\n",
            "EPOCH = 61\n",
            "tensor(0.0361, grad_fn=<MseLossBackward>)\n",
            "EPOCH = 62\n",
            "tensor(0.0234, grad_fn=<MseLossBackward>)\n",
            "EPOCH = 63\n",
            "tensor(0.0262, grad_fn=<MseLossBackward>)\n",
            "EPOCH = 64\n",
            "tensor(0.0176, grad_fn=<MseLossBackward>)\n",
            "EPOCH = 65\n",
            "tensor(0.0208, grad_fn=<MseLossBackward>)\n",
            "EPOCH = 66\n",
            "tensor(0.0226, grad_fn=<MseLossBackward>)\n",
            "EPOCH = 67\n",
            "tensor(0.0398, grad_fn=<MseLossBackward>)\n",
            "EPOCH = 68\n",
            "tensor(0.0273, grad_fn=<MseLossBackward>)\n",
            "EPOCH = 69\n",
            "tensor(0.0169, grad_fn=<MseLossBackward>)\n",
            "EPOCH = 70\n",
            "tensor(0.0332, grad_fn=<MseLossBackward>)\n",
            "EPOCH = 71\n",
            "tensor(0.0241, grad_fn=<MseLossBackward>)\n",
            "EPOCH = 72\n",
            "tensor(0.0161, grad_fn=<MseLossBackward>)\n",
            "EPOCH = 73\n",
            "tensor(0.0155, grad_fn=<MseLossBackward>)\n",
            "EPOCH = 74\n",
            "tensor(0.0240, grad_fn=<MseLossBackward>)\n",
            "EPOCH = 75\n",
            "tensor(0.0146, grad_fn=<MseLossBackward>)\n",
            "EPOCH = 76\n",
            "tensor(0.0216, grad_fn=<MseLossBackward>)\n",
            "EPOCH = 77\n",
            "tensor(0.0336, grad_fn=<MseLossBackward>)\n",
            "EPOCH = 78\n",
            "tensor(0.0227, grad_fn=<MseLossBackward>)\n",
            "EPOCH = 79\n",
            "tensor(0.0196, grad_fn=<MseLossBackward>)\n",
            "EPOCH = 80\n",
            "tensor(0.0140, grad_fn=<MseLossBackward>)\n",
            "EPOCH = 81\n",
            "tensor(0.0192, grad_fn=<MseLossBackward>)\n",
            "EPOCH = 82\n",
            "tensor(0.0231, grad_fn=<MseLossBackward>)\n",
            "EPOCH = 83\n",
            "tensor(0.0216, grad_fn=<MseLossBackward>)\n",
            "EPOCH = 84\n",
            "tensor(0.0207, grad_fn=<MseLossBackward>)\n",
            "EPOCH = 85\n",
            "tensor(0.0167, grad_fn=<MseLossBackward>)\n",
            "EPOCH = 86\n",
            "tensor(0.0246, grad_fn=<MseLossBackward>)\n",
            "EPOCH = 87\n",
            "tensor(0.0152, grad_fn=<MseLossBackward>)\n",
            "EPOCH = 88\n",
            "tensor(0.0124, grad_fn=<MseLossBackward>)\n",
            "EPOCH = 89\n",
            "tensor(0.0145, grad_fn=<MseLossBackward>)\n",
            "EPOCH = 90\n",
            "tensor(0.0245, grad_fn=<MseLossBackward>)\n",
            "EPOCH = 91\n",
            "tensor(0.0185, grad_fn=<MseLossBackward>)\n",
            "EPOCH = 92\n",
            "tensor(0.0267, grad_fn=<MseLossBackward>)\n",
            "EPOCH = 93\n",
            "tensor(0.0246, grad_fn=<MseLossBackward>)\n",
            "EPOCH = 94\n",
            "tensor(0.0202, grad_fn=<MseLossBackward>)\n",
            "EPOCH = 95\n",
            "tensor(0.0205, grad_fn=<MseLossBackward>)\n",
            "EPOCH = 96\n",
            "tensor(0.0097, grad_fn=<MseLossBackward>)\n",
            "EPOCH = 97\n",
            "tensor(0.0188, grad_fn=<MseLossBackward>)\n",
            "EPOCH = 98\n",
            "tensor(0.0096, grad_fn=<MseLossBackward>)\n",
            "EPOCH = 99\n",
            "tensor(0.0317, grad_fn=<MseLossBackward>)\n",
            "tensor([[0., 0., 0.,  ..., 0., 0., 0.],\n",
            "        [0., 0., 0.,  ..., 0., 0., 0.],\n",
            "        [1., 0., 0.,  ..., 0., 0., 0.],\n",
            "        ...,\n",
            "        [0., 0., 0.,  ..., 0., 0., 0.],\n",
            "        [0., 0., 0.,  ..., 0., 0., 0.],\n",
            "        [0., 0., 0.,  ..., 0., 0., 1.]])\n",
            "tensor([[7.0305e-05, 1.5407e-03, 1.7586e-03,  ..., 1.3096e-03, 1.3974e-02,\n",
            "         7.1237e-03],\n",
            "        [3.9981e-05, 3.9073e-05, 2.5120e-05,  ..., 1.6202e-03, 1.9292e-02,\n",
            "         3.6489e-03],\n",
            "        [9.1207e-01, 1.1547e-03, 2.6370e-03,  ..., 2.6621e-05, 7.5637e-02,\n",
            "         3.7207e-03],\n",
            "        ...,\n",
            "        [3.1531e-03, 7.5010e-04, 1.7455e-01,  ..., 6.9617e-04, 1.5774e-01,\n",
            "         6.2537e-03],\n",
            "        [1.3837e-01, 1.1764e-03, 7.7778e-03,  ..., 3.7575e-03, 1.4621e-02,\n",
            "         1.8367e-02],\n",
            "        [2.7792e-03, 4.8196e-03, 2.8134e-04,  ..., 4.1367e-06, 2.4366e-02,\n",
            "         9.4984e-01]])\n",
            "Accuracy = 87.27272727272727\n"
          ],
          "name": "stdout"
        }
      ]
    },
    {
      "cell_type": "markdown",
      "metadata": {
        "id": "HonTgUYFJWZc",
        "colab_type": "text"
      },
      "source": [
        "**TRAINING RESULTS**"
      ]
    },
    {
      "cell_type": "code",
      "metadata": {
        "id": "XHroVejPg3Lq",
        "colab_type": "code",
        "outputId": "cf454a6f-3a70-43a5-9841-3df4d6d50440",
        "colab": {
          "base_uri": "https://localhost:8080/",
          "height": 832
        }
      },
      "source": [
        "print(\"Total number of test samples = \" + str(len(scores)))\n",
        "print(\" \")\n",
        "print(\"Correct predictions = \" + str(correct))\n",
        "print(\" \")\n",
        "print(\"Accuracy = \" + str(((correct/len(scores))*100)) + \"%\") \n",
        "print(\" \")\n",
        "\n",
        "\n",
        "cfm = confusion_matrix(train_y, array)\n",
        "print(cfm)\n",
        "print(\" \")\n",
        "plt.imshow(cfm)\n",
        "plt.show()\n",
        "\n",
        "\n",
        "for i in range(len(loss)):\n",
        "  loss[i] = float(loss[i])\n",
        "\n",
        "\n",
        "plt.plot(loss)\n",
        "plt.xlabel('Epochs')\n",
        "plt.ylabel('Loss')\n",
        "plt.title('Training convergence plot')\n",
        "plt.show()"
      ],
      "execution_count": 31,
      "outputs": [
        {
          "output_type": "stream",
          "text": [
            "Total number of test samples = 220\n",
            " \n",
            "Correct predictions = 192\n",
            " \n",
            "Accuracy = 87.27272727272727%\n",
            " \n",
            "[[13  0  1  0  1  1  0  2  1  1]\n",
            " [ 0 17  1  1  1  1  0  1  1  0]\n",
            " [ 0  0 20  0  0  0  0  0  1  0]\n",
            " [ 0  0  0 22  0  0  0  1  0  0]\n",
            " [ 0  0  0  0 20  1  0  0  1  1]\n",
            " [ 0  0  0  0  1 20  0  0  0  1]\n",
            " [ 0  0  0  1  0  1 19  1  0  0]\n",
            " [ 0  0  0  0  0  0  0 22  0  0]\n",
            " [ 0  1  1  0  2  0  0  0 19  0]\n",
            " [ 0  0  0  0  1  0  0  0  0 20]]\n",
            " \n"
          ],
          "name": "stdout"
        },
        {
          "output_type": "display_data",
          "data": {
            "image/png": "[encoded data removed]",
            "text/plain": [
              "<Figure size 432x288 with 1 Axes>"
            ]
          },
          "metadata": {
            "tags": [],
            "needs_background": "light"
          }
        },
        {
          "output_type": "display_data",
          "data": {
            "image/png": "[encoded data removed]",
            "text/plain": [
              "<Figure size 432x288 with 1 Axes>"
            ]
          },
          "metadata": {
            "tags": [],
            "needs_background": "light"
          }
        }
      ]
    },
    {
      "cell_type": "markdown",
      "metadata": {
        "id": "kx5MLkpdJZq8",
        "colab_type": "text"
      },
      "source": [
        "**MODEL ARCHITECTURE**"
      ]
    },
    {
      "cell_type": "code",
      "metadata": {
        "id": "HTTouK5--qHu",
        "colab_type": "code",
        "colab": {
          "base_uri": "https://localhost:8080/",
          "height": 119
        },
        "outputId": "dae6cab4-8550-446a-ee11-23a6f0c93114"
      },
      "source": [
        "lstm"
      ],
      "execution_count": 11,
      "outputs": [
        {
          "output_type": "execute_result",
          "data": {
            "text/plain": [
              "LSTM(\n",
              "  (rnn): LSTM(81, 10, num_layers=2, dropout=0.1)\n",
              "  (fc): Sequential(\n",
              "    (0): Linear(in_features=10, out_features=10, bias=True)\n",
              "  )\n",
              ")"
            ]
          },
          "metadata": {
            "tags": []
          },
          "execution_count": 11
        }
      ]
    },
    {
      "cell_type": "markdown",
      "metadata": {
        "id": "K4QThUARJcsD",
        "colab_type": "text"
      },
      "source": [
        "**TESTING RESULTS**"
      ]
    },
    {
      "cell_type": "code",
      "metadata": {
        "id": "Exr4rNwa-aUh",
        "colab_type": "code",
        "colab": {
          "base_uri": "https://localhost:8080/",
          "height": 554
        },
        "outputId": "d237b10d-1667-4506-b617-a7522197efd2"
      },
      "source": [
        "correct = 0\n",
        "total = 0\n",
        "predict = []\n",
        "real = []\n",
        "\n",
        "\n",
        "with torch.no_grad():\n",
        "\n",
        "\n",
        "  #real_class = torch.Tensor(test_y).type(torch.LongTensor)\n",
        "  real_class = torch.Tensor(test_y_ohe)#.type(torch.LongTensor)\n",
        "  scores = lstm(torch.Tensor(test_x).permute(1,0,2))\n",
        "\n",
        "\n",
        "\n",
        "array = []\n",
        "for i in range(len(scores)):\n",
        "  k = scores[i]\n",
        "  m = torch.max(k)\n",
        "  for j in range(len(k)):\n",
        "    if(k[j] == m):\n",
        "      array.append(j)\n",
        "      break\n",
        "\n",
        "for i in range(len(scores)):\n",
        "  if(array[i] == int(test_y[i])):\n",
        "    correct = correct + 1\n",
        "\n",
        "print(\"Total number of test samples = \" + str(len(scores)))\n",
        "print(\" \")\n",
        "print(\"Correct predictions = \" + str(correct))\n",
        "print(\" \")\n",
        "print(\"Accuracy = \" + str((correct)/len(scores)*100) + \"%\") \n",
        "print(\" \")\n",
        "\n",
        "\n",
        "cfm = confusion_matrix(test_y, array)\n",
        "print(cfm)\n",
        "print(\" \")\n",
        "plt.imshow(cfm)\n",
        "plt.show()\n"
      ],
      "execution_count": 51,
      "outputs": [
        {
          "output_type": "stream",
          "text": [
            "Total number of test samples = 20\n",
            " \n",
            "Correct predictions = 13\n",
            " \n",
            "Accuracy = 65.0%\n",
            " \n",
            "[[1 0 0 0 1 1 1 0 0 0]\n",
            " [0 1 0 0 0 0 0 0 0 0]\n",
            " [0 1 2 0 0 0 0 0 0 0]\n",
            " [0 0 0 3 0 0 0 0 0 0]\n",
            " [0 0 0 0 0 0 0 0 0 0]\n",
            " [0 0 0 0 0 1 0 0 0 0]\n",
            " [0 0 0 0 0 0 2 0 1 0]\n",
            " [0 1 0 0 0 0 0 1 0 0]\n",
            " [0 0 0 0 0 0 0 0 0 0]\n",
            " [0 1 0 0 0 0 0 0 0 2]]\n",
            " \n"
          ],
          "name": "stdout"
        },
        {
          "output_type": "display_data",
          "data": {
            "image/png": "[encoded data removed]",
            "text/plain": [
              "<Figure size 432x288 with 1 Axes>"
            ]
          },
          "metadata": {
            "tags": [],
            "needs_background": "light"
          }
        }
      ]
    },
    {
      "cell_type": "markdown",
      "metadata": {
        "id": "BsO6GK14JiAK",
        "colab_type": "text"
      },
      "source": [
        "**SAVING MODEL WEIGHTS**"
      ]
    },
    {
      "cell_type": "code",
      "metadata": {
        "id": "sLGr3Rc9GLvH",
        "colab_type": "code",
        "colab": {
          "base_uri": "https://localhost:8080/",
          "height": 71
        },
        "outputId": "ff2a08b6-2441-4f0e-d8b0-4fff1f03206c"
      },
      "source": [
        "torch.save(lstm , \"model_weights.pt\")"
      ],
      "execution_count": 60,
      "outputs": [
        {
          "output_type": "stream",
          "text": [
            "/usr/local/lib/python3.6/dist-packages/torch/serialization.py:402: UserWarning: Couldn't retrieve source code for container of type LSTM. It won't be checked for correctness upon loading.\n",
            "  \"type \" + obj.__name__ + \". It won't be checked \"\n"
          ],
          "name": "stderr"
        }
      ]
    }
  ]
}