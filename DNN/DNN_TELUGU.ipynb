{
  "nbformat": 4,
  "nbformat_minor": 0,
  "metadata": {
    "colab": {
      "name": "DNN_TELUGU.ipynb",
      "provenance": []
    },
    "kernelspec": {
      "name": "python3",
      "display_name": "Python 3"
    }
  },
  "cells": [
    {
      "cell_type": "markdown",
      "metadata": {
        "id": "J9DtPbakB5hO",
        "colab_type": "text"
      },
      "source": [
        "**DEEP NEURAL NETWORK FOR TELUGU DIGITS RECOGNITION**"
      ]
    },
    {
      "cell_type": "code",
      "metadata": {
        "id": "PxNfWeHQtGQs",
        "colab_type": "code",
        "colab": {
          "base_uri": "https://localhost:8080/",
          "height": 122
        },
        "outputId": "5c9e56af-1237-49f5-e3b1-5186c0cce89a"
      },
      "source": [
        "from google.colab import drive\n",
        "drive.mount('/content/gdrive')"
      ],
      "execution_count": 1,
      "outputs": [
        {
          "output_type": "stream",
          "text": [
            "Go to this URL in a browser: https://accounts.google.com/o/oauth2/auth?client_id=947318989803-6bn6qk8qdgf4n4g3pfee6491hc0brc4i.apps.googleusercontent.com&redirect_uri=urn%3aietf%3awg%3aoauth%3a2.0%3aoob&response_type=code&scope=email%20https%3a%2f%2fwww.googleapis.com%2fauth%2fdocs.test%20https%3a%2f%2fwww.googleapis.com%2fauth%2fdrive%20https%3a%2f%2fwww.googleapis.com%2fauth%2fdrive.photos.readonly%20https%3a%2f%2fwww.googleapis.com%2fauth%2fpeopleapi.readonly\n",
            "\n",
            "Enter your authorization code:\n",
            "··········\n",
            "Mounted at /content/gdrive\n"
          ],
          "name": "stdout"
        }
      ]
    },
    {
      "cell_type": "markdown",
      "metadata": {
        "id": "CoOg7Hn_CfVe",
        "colab_type": "text"
      },
      "source": [
        "**IMPORTS AND LIBRARIES**"
      ]
    },
    {
      "cell_type": "code",
      "metadata": {
        "id": "2STM-JTKz6n5",
        "colab_type": "code",
        "colab": {}
      },
      "source": [
        "import os\n",
        "import numpy as np\n",
        "import pandas as pd\n",
        "from matplotlib import pyplot as plt\n",
        "from tqdm import tqdm\n",
        "import glob\n",
        "import librosa\n",
        "import datetime as dt\n",
        "import torch\n",
        "import torch.nn as nn\n",
        "import torch.nn.functional as F\n",
        "import torch.optim as optim\n",
        "from sklearn.metrics import confusion_matrix"
      ],
      "execution_count": 0,
      "outputs": []
    },
    {
      "cell_type": "markdown",
      "metadata": {
        "id": "pkR6e9O4Cnh4",
        "colab_type": "text"
      },
      "source": [
        "**DATA PRE-PROCESSING**"
      ]
    },
    {
      "cell_type": "code",
      "metadata": {
        "id": "p_DFU5kkz6fq",
        "colab_type": "code",
        "colab": {
          "base_uri": "https://localhost:8080/",
          "height": 1000
        },
        "outputId": "bc711c33-cb69-42b7-841c-e51ff79b1053"
      },
      "source": [
        "os.chdir(\"/content/gdrive/My Drive/SRU Project/Final Submission/Telugu/telugu digits\")\n",
        "d = {'Rendu' : 2,'nalugu' : 4,'enimidi': 8, 'aidu' : 5, 'tommidi' : 9, 'padi' : 0, 'edu' : 7, 'Okati' : 1, 'Mudu' : 3,'aaru' : 6}\n",
        "\n",
        "data2 = []\n",
        "for i in d:\n",
        "  c = 1\n",
        "  for file in glob.glob(i + \"/\" + \"*.wav\"):\n",
        "    print(file)\n",
        "    print(c)\n",
        "    c =c + 1\n",
        "    y, sr = librosa.load(file)\n",
        "    mfccs = librosa.feature.mfcc(y = y)\n",
        "    data2.append([mfccs , int(d[i])])\n",
        "\n",
        "  print(\"change in digit\")\n",
        "\n",
        "\n",
        "data2 = np.array(data2)\n",
        "np.random.shuffle(data2)\n",
        "\n",
        "\n",
        "shp = []\n",
        "for i in range(len(data2)):\n",
        "  print(data2[i][0].shape)\n",
        "  shp.append(data2[i][0].shape[1])\n",
        "\n",
        "z = max(shp)\n",
        "\n",
        "np.save(\"mfcc_telegu\" , data2)"
      ],
      "execution_count": 3,
      "outputs": [
        {
          "output_type": "stream",
          "text": [
            "Rendu/2a.wav\n",
            "1\n",
            "Rendu/2e.wav\n",
            "2\n",
            "Rendu/2d.wav\n",
            "3\n",
            "Rendu/2c.wav\n",
            "4\n",
            "Rendu/2b.wav\n",
            "5\n",
            "Rendu/2f.wav\n",
            "6\n",
            "change in digit\n",
            "nalugu/4a.wav\n",
            "1\n",
            "nalugu/4f.wav\n",
            "2\n",
            "nalugu/4e.wav\n",
            "3\n",
            "nalugu/4d.wav\n",
            "4\n",
            "nalugu/4c.wav\n",
            "5\n",
            "nalugu/4b.wav\n",
            "6\n",
            "change in digit\n",
            "enimidi/8b.wav\n",
            "1\n",
            "enimidi/8a.wav\n",
            "2\n",
            "enimidi/8f.wav\n",
            "3\n",
            "enimidi/8e.wav\n",
            "4\n",
            "enimidi/8d.wav\n",
            "5\n",
            "enimidi/8c.wav\n",
            "6\n",
            "change in digit\n",
            "aidu/5a.wav\n",
            "1\n",
            "aidu/5b.wav\n",
            "2\n",
            "aidu/5g.wav\n",
            "3\n",
            "aidu/5f.wav\n",
            "4\n",
            "aidu/5e.wav\n",
            "5\n",
            "aidu/5d.wav\n",
            "6\n",
            "aidu/5c.wav\n",
            "7\n",
            "change in digit\n",
            "tommidi/9b.wav\n",
            "1\n",
            "tommidi/9a.wav\n",
            "2\n",
            "tommidi/9f.wav\n",
            "3\n",
            "tommidi/9e.wav\n",
            "4\n",
            "tommidi/9d.wav\n",
            "5\n",
            "tommidi/9c.wav\n",
            "6\n",
            "change in digit\n",
            "padi/10b.wav\n",
            "1\n",
            "padi/10a.wav\n",
            "2\n",
            "padi/10f.wav\n",
            "3\n",
            "padi/10e.wav\n",
            "4\n",
            "padi/10d.wav\n",
            "5\n",
            "padi/10c.wav\n",
            "6\n",
            "change in digit\n",
            "edu/7a.wav\n",
            "1\n",
            "edu/7b.wav\n",
            "2\n",
            "edu/7f.wav\n",
            "3\n",
            "edu/7e.wav\n",
            "4\n",
            "edu/7d.wav\n",
            "5\n",
            "edu/7c.wav\n",
            "6\n",
            "change in digit\n",
            "Okati/1a.wav\n",
            "1\n",
            "Okati/1b.wav\n",
            "2\n",
            "Okati/1f.wav\n",
            "3\n",
            "Okati/1e.wav\n",
            "4\n",
            "Okati/1d.wav\n",
            "5\n",
            "Okati/1c.wav\n",
            "6\n",
            "change in digit\n",
            "Mudu/3a.wav\n",
            "1\n",
            "Mudu/3f.wav\n",
            "2\n",
            "Mudu/3e.wav\n",
            "3\n",
            "Mudu/3d.wav\n",
            "4\n",
            "Mudu/3c.wav\n",
            "5\n",
            "Mudu/3b.wav\n",
            "6\n",
            "change in digit\n",
            "aaru/6b.wav\n",
            "1\n",
            "aaru/6a.wav\n",
            "2\n",
            "aaru/6f.wav\n",
            "3\n",
            "aaru/6e.wav\n",
            "4\n",
            "aaru/6d.wav\n",
            "5\n",
            "aaru/6c.wav\n",
            "6\n",
            "change in digit\n",
            "(20, 66)\n",
            "(20, 66)\n",
            "(20, 34)\n",
            "(20, 59)\n",
            "(20, 66)\n",
            "(20, 33)\n",
            "(20, 71)\n",
            "(20, 69)\n",
            "(20, 67)\n",
            "(20, 53)\n",
            "(20, 36)\n",
            "(20, 59)\n",
            "(20, 67)\n",
            "(20, 29)\n",
            "(20, 58)\n",
            "(20, 58)\n",
            "(20, 50)\n",
            "(20, 50)\n",
            "(20, 59)\n",
            "(20, 59)\n",
            "(20, 53)\n",
            "(20, 27)\n",
            "(20, 50)\n",
            "(20, 69)\n",
            "(20, 71)\n",
            "(20, 75)\n",
            "(20, 71)\n",
            "(20, 58)\n",
            "(20, 38)\n",
            "(20, 67)\n",
            "(20, 66)\n",
            "(20, 75)\n",
            "(20, 53)\n",
            "(20, 50)\n",
            "(20, 48)\n",
            "(20, 48)\n",
            "(20, 75)\n",
            "(20, 71)\n",
            "(20, 48)\n",
            "(20, 25)\n",
            "(20, 58)\n",
            "(20, 53)\n",
            "(20, 75)\n",
            "(20, 58)\n",
            "(20, 75)\n",
            "(20, 50)\n",
            "(20, 50)\n",
            "(20, 67)\n",
            "(20, 53)\n",
            "(20, 67)\n",
            "(20, 69)\n",
            "(20, 66)\n",
            "(20, 71)\n",
            "(20, 24)\n",
            "(20, 30)\n",
            "(20, 48)\n",
            "(20, 35)\n",
            "(20, 69)\n",
            "(20, 69)\n",
            "(20, 59)\n",
            "(20, 48)\n"
          ],
          "name": "stdout"
        }
      ]
    },
    {
      "cell_type": "code",
      "metadata": {
        "id": "6panr8Vo2Rq2",
        "colab_type": "code",
        "colab": {}
      },
      "source": [
        "x = []\n",
        "y = []\n",
        "for i in range(len(data2)):\n",
        "  val = data2[i][0].shape[1]\n",
        "  if(val != z):\n",
        "    zero = np.zeros((20 , z - val))\n",
        "    new_data = np.append(data2[i][0] , zero , axis = 1)\n",
        "    x.append(new_data)\n",
        "  else:\n",
        "    x.append(data2[i][0])\n",
        "  y.append(data2[i][1])\n",
        "\n",
        "x = np.array(x)\n",
        "y = np.array(y)"
      ],
      "execution_count": 0,
      "outputs": []
    },
    {
      "cell_type": "code",
      "metadata": {
        "id": "UTED0eD527zP",
        "colab_type": "code",
        "colab": {
          "base_uri": "https://localhost:8080/",
          "height": 85
        },
        "outputId": "29ba6c94-a2e8-493a-9baa-a2490047e022"
      },
      "source": [
        "train_x = x[:50]\n",
        "train_y = y[:50]\n",
        "test_x = x[45:]\n",
        "test_y = y[45:]\n",
        "\n",
        "print(\"Training Data Dimensions = \" + str(train_x.shape))\n",
        "print(\"Training Labels Dimensions = \" + str(train_y.shape))\n",
        "print(\"Test Data Dimensions = \" + str(test_x.shape))\n",
        "print(\"Test Labels Dimensions = \" + str(test_y.shape))"
      ],
      "execution_count": 5,
      "outputs": [
        {
          "output_type": "stream",
          "text": [
            "Training Data Dimensions = (50, 20, 75)\n",
            "Training Labels Dimensions = (50,)\n",
            "Test Data Dimensions = (16, 20, 75)\n",
            "Test Labels Dimensions = (16,)\n"
          ],
          "name": "stdout"
        }
      ]
    },
    {
      "cell_type": "markdown",
      "metadata": {
        "id": "ZlhMkLPWCyMO",
        "colab_type": "text"
      },
      "source": [
        "**LSTM MODEL**"
      ]
    },
    {
      "cell_type": "code",
      "metadata": {
        "id": "yoY48u9U49Jk",
        "colab_type": "code",
        "colab": {
          "base_uri": "https://localhost:8080/",
          "height": 1000
        },
        "outputId": "a2276c34-9bac-485b-d531-f3972076dbe4"
      },
      "source": [
        "class LSTM(nn.Module):\n",
        "\n",
        "\n",
        "  def __init__(self , inp, hidden, batch, out, layers):\n",
        "\n",
        "    super(LSTM, self).__init__()\n",
        "\n",
        "\n",
        "    self.inp = inp\n",
        "    self.hidden = hidden\n",
        "    self.batch = batch\n",
        "    self.out = out\n",
        "    self.layers = layers\n",
        "\n",
        "\n",
        "    self.rnn = nn.LSTM(self.inp, self.hidden, self.layers, dropout = 0.1)\n",
        "    self.fc = nn.Sequential(nn.Linear(self.hidden, self.out))\n",
        "\n",
        "\n",
        "  \n",
        "  def forward(self, x):\n",
        "\n",
        "    output , hide = self.rnn(x)\n",
        "    lstm_out = self.fc(output[-1])\n",
        "    prediction = F.softmax(lstm_out, dim = 1)\n",
        "\n",
        "    return prediction\n",
        "\n",
        "train_y_ohe = []\n",
        "for i  in range(len(train_y)):\n",
        "  k = np.eye(10)[int(train_y[i])]\n",
        "  train_y_ohe.append(k)\n",
        "\n",
        "test_y_ohe = []\n",
        "for i  in range(len(test_y)):\n",
        "  k = np.eye(10)[int(test_y[i])]\n",
        "  test_y_ohe.append(k)\n",
        "\n",
        "train_y_ohe = np.array(train_y_ohe)\n",
        "test_y_ohe = np.array(test_y_ohe)\n",
        "print(test_y_ohe.shape)\n",
        "print(train_y_ohe.shape)\n",
        "\n",
        "batch = 5\n",
        "epochs = 20\n",
        "loss = []\n",
        "\n",
        "\n",
        "lstm = LSTM(inp = 75, hidden = 10, batch = batch, out = 10, layers=2)\n",
        "#loss_function = nn.CrossEntropyLoss()\n",
        "loss_function = nn.MSELoss()\n",
        "optimizer = optim.Adam(lstm.parameters(), lr=0.01)\n",
        "\n",
        "for ep in range(epochs):\n",
        "\n",
        "\n",
        "  for i in range(0, len(train_x), batch):\n",
        "\n",
        "\n",
        "    batch_x = torch.Tensor(train_x[i : i + batch]).permute(1,0,2)\n",
        "    #batch_y = torch.Tensor(train_y[i : i + batch]).type(torch.LongTensor)\n",
        "    batch_y = torch.Tensor(train_y_ohe[i : i + batch])#.type(torch.LongTensor)\n",
        "\n",
        "\n",
        "    lstm.zero_grad()\n",
        "    pred = lstm(batch_x)\n",
        "    los = loss_function(pred , batch_y)\n",
        "    los.backward()\n",
        "    optimizer.step()\n",
        "\n",
        "\n",
        "  print('EPOCH = ' + str(ep))\n",
        "  print(los)\n",
        "  loss.append(los)\n",
        "\n",
        "\n",
        "correct = 0\n",
        "total = 0\n",
        "predict = []\n",
        "real = []\n",
        "\n",
        "\n",
        "with torch.no_grad():\n",
        "\n",
        "\n",
        "  #real_class = torch.Tensor(test_y).type(torch.LongTensor)\n",
        "  real_class = torch.Tensor(train_y_ohe)#.type(torch.LongTensor)\n",
        "  scores = lstm(torch.Tensor(train_x).permute(1,0,2))\n",
        "\n",
        "print(real_class)\n",
        "print(scores)\n",
        "\n",
        "\n",
        "array = []\n",
        "for i in range(len(scores)):\n",
        "  k = scores[i]\n",
        "  m = torch.max(k)\n",
        "  for j in range(len(k)):\n",
        "    if(k[j] == m):\n",
        "      array.append(j)\n",
        "      break\n",
        "\n",
        "for i in range(len(scores)):\n",
        "  if(array[i] == int(train_y[i])):\n",
        "    correct = correct + 1\n",
        "\n",
        "print(\"Accuracy = \" + str(correct*100/len(scores)))"
      ],
      "execution_count": 6,
      "outputs": [
        {
          "output_type": "stream",
          "text": [
            "(16, 10)\n",
            "(50, 10)\n",
            "EPOCH = 0\n",
            "tensor(0.0878, grad_fn=<MseLossBackward>)\n",
            "EPOCH = 1\n",
            "tensor(0.0826, grad_fn=<MseLossBackward>)\n",
            "EPOCH = 2\n",
            "tensor(0.0750, grad_fn=<MseLossBackward>)\n",
            "EPOCH = 3\n",
            "tensor(0.0624, grad_fn=<MseLossBackward>)\n",
            "EPOCH = 4\n",
            "tensor(0.0525, grad_fn=<MseLossBackward>)\n",
            "EPOCH = 5\n",
            "tensor(0.0495, grad_fn=<MseLossBackward>)\n",
            "EPOCH = 6\n",
            "tensor(0.0355, grad_fn=<MseLossBackward>)\n",
            "EPOCH = 7\n",
            "tensor(0.0268, grad_fn=<MseLossBackward>)\n",
            "EPOCH = 8\n",
            "tensor(0.0100, grad_fn=<MseLossBackward>)\n",
            "EPOCH = 9\n",
            "tensor(0.0084, grad_fn=<MseLossBackward>)\n",
            "EPOCH = 10\n",
            "tensor(0.0152, grad_fn=<MseLossBackward>)\n",
            "EPOCH = 11\n",
            "tensor(0.0063, grad_fn=<MseLossBackward>)\n",
            "EPOCH = 12\n",
            "tensor(0.0063, grad_fn=<MseLossBackward>)\n",
            "EPOCH = 13\n",
            "tensor(0.0046, grad_fn=<MseLossBackward>)\n",
            "EPOCH = 14\n",
            "tensor(0.0029, grad_fn=<MseLossBackward>)\n",
            "EPOCH = 15\n",
            "tensor(0.0039, grad_fn=<MseLossBackward>)\n",
            "EPOCH = 16\n",
            "tensor(0.0058, grad_fn=<MseLossBackward>)\n",
            "EPOCH = 17\n",
            "tensor(0.0019, grad_fn=<MseLossBackward>)\n",
            "EPOCH = 18\n",
            "tensor(0.0382, grad_fn=<MseLossBackward>)\n",
            "EPOCH = 19\n",
            "tensor(0.0145, grad_fn=<MseLossBackward>)\n",
            "tensor([[0., 0., 1., 0., 0., 0., 0., 0., 0., 0.],\n",
            "        [0., 0., 1., 0., 0., 0., 0., 0., 0., 0.],\n",
            "        [0., 0., 0., 0., 0., 0., 0., 0., 0., 1.],\n",
            "        [0., 0., 0., 0., 0., 0., 0., 0., 1., 0.],\n",
            "        [0., 0., 1., 0., 0., 0., 0., 0., 0., 0.],\n",
            "        [0., 0., 1., 0., 0., 0., 0., 0., 0., 0.],\n",
            "        [0., 0., 0., 0., 0., 0., 0., 1., 0., 0.],\n",
            "        [0., 1., 0., 0., 0., 0., 0., 0., 0., 0.],\n",
            "        [0., 0., 0., 0., 0., 0., 0., 0., 0., 1.],\n",
            "        [0., 0., 0., 0., 0., 0., 1., 0., 0., 0.],\n",
            "        [0., 0., 0., 0., 0., 0., 0., 1., 0., 0.],\n",
            "        [0., 0., 0., 0., 0., 0., 0., 0., 1., 0.],\n",
            "        [0., 0., 0., 0., 0., 0., 0., 0., 0., 1.],\n",
            "        [0., 0., 0., 0., 1., 0., 0., 0., 0., 0.],\n",
            "        [0., 0., 0., 0., 1., 0., 0., 0., 0., 0.],\n",
            "        [0., 0., 0., 0., 1., 0., 0., 0., 0., 0.],\n",
            "        [0., 0., 0., 0., 0., 1., 0., 0., 0., 0.],\n",
            "        [0., 0., 0., 0., 0., 1., 0., 0., 0., 0.],\n",
            "        [0., 0., 0., 0., 0., 0., 0., 0., 1., 0.],\n",
            "        [0., 0., 0., 0., 0., 0., 0., 0., 1., 0.],\n",
            "        [0., 0., 0., 0., 0., 0., 1., 0., 0., 0.],\n",
            "        [0., 0., 0., 0., 0., 0., 1., 0., 0., 0.],\n",
            "        [0., 0., 0., 0., 0., 1., 0., 0., 0., 0.],\n",
            "        [0., 1., 0., 0., 0., 0., 0., 0., 0., 0.],\n",
            "        [0., 0., 0., 0., 0., 0., 0., 1., 0., 0.],\n",
            "        [0., 0., 0., 1., 0., 0., 0., 0., 0., 0.],\n",
            "        [0., 0., 0., 0., 0., 0., 0., 1., 0., 0.],\n",
            "        [0., 0., 0., 0., 1., 0., 0., 0., 0., 0.],\n",
            "        [0., 0., 0., 1., 0., 0., 0., 0., 0., 0.],\n",
            "        [0., 0., 0., 0., 0., 0., 0., 0., 0., 1.],\n",
            "        [0., 0., 1., 0., 0., 0., 0., 0., 0., 0.],\n",
            "        [0., 0., 0., 1., 0., 0., 0., 0., 0., 0.],\n",
            "        [0., 0., 0., 0., 0., 0., 1., 0., 0., 0.],\n",
            "        [0., 0., 0., 0., 0., 1., 0., 0., 0., 0.],\n",
            "        [1., 0., 0., 0., 0., 0., 0., 0., 0., 0.],\n",
            "        [1., 0., 0., 0., 0., 0., 0., 0., 0., 0.],\n",
            "        [0., 0., 0., 1., 0., 0., 0., 0., 0., 0.],\n",
            "        [0., 0., 0., 0., 0., 0., 0., 1., 0., 0.],\n",
            "        [1., 0., 0., 0., 0., 0., 0., 0., 0., 0.],\n",
            "        [0., 0., 0., 0., 0., 1., 0., 0., 0., 0.],\n",
            "        [0., 0., 0., 0., 1., 0., 0., 0., 0., 0.],\n",
            "        [0., 0., 0., 0., 0., 0., 1., 0., 0., 0.],\n",
            "        [0., 0., 0., 1., 0., 0., 0., 0., 0., 0.],\n",
            "        [0., 0., 0., 0., 1., 0., 0., 0., 0., 0.],\n",
            "        [0., 0., 0., 1., 0., 0., 0., 0., 0., 0.],\n",
            "        [0., 0., 0., 0., 0., 1., 0., 0., 0., 0.],\n",
            "        [0., 0., 0., 0., 0., 1., 0., 0., 0., 0.],\n",
            "        [0., 0., 0., 0., 0., 0., 0., 0., 0., 1.],\n",
            "        [0., 0., 0., 0., 0., 0., 1., 0., 0., 0.],\n",
            "        [0., 0., 0., 0., 0., 0., 0., 0., 0., 1.]])\n",
            "tensor([[6.6425e-02, 4.2958e-02, 5.4672e-01, 1.5070e-03, 6.7244e-02, 1.7308e-02,\n",
            "         2.3933e-01, 2.0866e-03, 1.5370e-02, 1.0463e-03],\n",
            "        [7.1445e-02, 4.7440e-02, 4.8655e-01, 1.6837e-03, 6.3341e-02, 1.5650e-02,\n",
            "         2.9663e-01, 2.5520e-03, 1.3794e-02, 9.1418e-04],\n",
            "        [3.8375e-03, 5.4091e-03, 9.8500e-03, 2.2581e-01, 2.6192e-02, 1.2677e-01,\n",
            "         1.2562e-02, 1.8248e-02, 1.3128e-02, 5.5820e-01],\n",
            "        [1.6476e-01, 3.0723e-01, 1.0670e-01, 1.6011e-02, 9.1761e-02, 1.7478e-02,\n",
            "         1.3291e-02, 2.9144e-03, 2.7535e-01, 4.5027e-03],\n",
            "        [9.0092e-02, 2.1435e-02, 6.8393e-01, 1.1693e-03, 2.7492e-02, 2.6322e-02,\n",
            "         1.1872e-01, 3.8825e-03, 2.4728e-02, 2.2297e-03],\n",
            "        [3.9034e-02, 3.7329e-02, 3.3349e-01, 2.0777e-02, 2.1542e-01, 8.8972e-02,\n",
            "         1.7387e-01, 1.1302e-02, 4.0531e-02, 3.9272e-02],\n",
            "        [1.8591e-02, 9.7320e-04, 7.3435e-04, 7.6283e-02, 3.7971e-04, 2.1687e-03,\n",
            "         8.0579e-03, 8.7026e-01, 5.3439e-04, 2.2013e-02],\n",
            "        [1.2005e-01, 3.4951e-01, 5.2204e-02, 5.2765e-02, 4.0813e-02, 6.2194e-02,\n",
            "         7.0294e-03, 1.2597e-02, 2.9361e-01, 9.2176e-03],\n",
            "        [1.3993e-02, 2.9922e-03, 2.2419e-03, 3.1681e-01, 1.8029e-03, 3.0226e-02,\n",
            "         8.5395e-03, 3.4801e-01, 6.6125e-03, 2.6878e-01],\n",
            "        [6.5145e-03, 8.6147e-04, 9.1680e-03, 2.6360e-02, 1.1845e-02, 9.8988e-04,\n",
            "         9.2222e-01, 1.8912e-02, 1.9083e-04, 2.9359e-03],\n",
            "        [1.6751e-02, 7.8966e-04, 5.0339e-04, 6.0237e-02, 4.4245e-04, 8.4813e-04,\n",
            "         7.6682e-03, 9.0085e-01, 3.6807e-04, 1.1540e-02],\n",
            "        [5.2661e-02, 1.1115e-01, 4.9030e-02, 8.6237e-03, 2.1518e-02, 2.9570e-02,\n",
            "         1.6168e-03, 1.0643e-03, 7.1805e-01, 6.7099e-03],\n",
            "        [1.1451e-03, 4.6307e-04, 3.0674e-03, 5.1881e-02, 1.4357e-02, 1.7325e-02,\n",
            "         8.0556e-03, 2.1623e-02, 2.1242e-03, 8.7996e-01],\n",
            "        [1.1869e-02, 3.5970e-02, 7.5353e-02, 5.8435e-02, 5.4863e-01, 4.2361e-02,\n",
            "         1.3174e-01, 1.5976e-02, 2.7699e-02, 5.1971e-02],\n",
            "        [7.6991e-03, 1.8970e-02, 2.2387e-02, 4.0294e-02, 6.8938e-01, 1.7496e-03,\n",
            "         1.8704e-01, 6.6778e-03, 7.9516e-03, 1.7854e-02],\n",
            "        [2.3605e-02, 1.0014e-01, 2.2142e-02, 1.3675e-01, 5.4029e-01, 7.7314e-03,\n",
            "         9.1518e-02, 2.5904e-02, 3.6150e-02, 1.5769e-02],\n",
            "        [1.5201e-02, 4.0377e-02, 6.8492e-02, 7.6389e-03, 8.6149e-03, 4.1581e-01,\n",
            "         8.3113e-04, 2.9325e-03, 4.1490e-01, 2.5202e-02],\n",
            "        [1.0311e-02, 2.0415e-02, 2.1050e-01, 1.3157e-03, 1.8172e-02, 2.7058e-01,\n",
            "         1.4174e-03, 8.8762e-04, 4.4148e-01, 2.4912e-02],\n",
            "        [3.7707e-02, 9.1682e-02, 5.7307e-02, 6.5651e-03, 2.2155e-02, 3.6794e-02,\n",
            "         1.5006e-03, 6.6787e-04, 7.3896e-01, 6.6672e-03],\n",
            "        [1.9498e-02, 7.7296e-02, 1.0230e-01, 7.6176e-03, 3.7636e-02, 1.5327e-01,\n",
            "         2.2104e-03, 1.3763e-03, 5.7865e-01, 2.0142e-02],\n",
            "        [1.4372e-02, 1.9702e-03, 9.7139e-03, 6.5148e-02, 1.5617e-02, 1.6734e-03,\n",
            "         8.1585e-01, 6.9043e-02, 3.8402e-04, 6.2324e-03],\n",
            "        [1.0659e-02, 2.4381e-03, 2.4803e-02, 2.9380e-02, 2.4526e-02, 3.7433e-03,\n",
            "         8.6125e-01, 3.7055e-02, 7.9595e-04, 5.3487e-03],\n",
            "        [3.0347e-03, 4.4346e-03, 4.0969e-02, 4.0892e-03, 2.4746e-03, 8.5610e-01,\n",
            "         5.4770e-04, 1.6308e-03, 4.6798e-02, 3.9923e-02],\n",
            "        [1.5315e-01, 4.1973e-01, 5.9701e-02, 5.3940e-02, 1.0480e-01, 2.3585e-02,\n",
            "         2.4562e-02, 1.1426e-02, 1.4249e-01, 6.6208e-03],\n",
            "        [1.5550e-02, 8.1392e-04, 3.2310e-03, 2.8321e-02, 1.7214e-03, 2.3257e-03,\n",
            "         5.2141e-02, 8.7633e-01, 2.8861e-04, 1.9282e-02],\n",
            "        [6.6824e-03, 7.2193e-03, 1.0250e-03, 8.0394e-01, 4.9500e-03, 1.3627e-02,\n",
            "         2.2144e-02, 9.3335e-02, 2.8437e-03, 4.4236e-02],\n",
            "        [7.7636e-03, 3.4276e-04, 1.1264e-03, 1.6467e-02, 6.0649e-04, 1.5079e-03,\n",
            "         1.3425e-02, 9.4393e-01, 2.1090e-04, 1.4620e-02],\n",
            "        [2.2097e-03, 1.8124e-02, 1.9796e-02, 1.1569e-02, 8.8869e-01, 5.4526e-03,\n",
            "         3.0112e-02, 2.7246e-03, 8.0459e-03, 1.3273e-02],\n",
            "        [1.3651e-02, 1.4123e-02, 2.1538e-03, 8.0967e-01, 9.7565e-03, 1.4951e-02,\n",
            "         2.2101e-02, 4.6491e-02, 8.3435e-03, 5.8761e-02],\n",
            "        [7.2056e-04, 3.6900e-04, 6.9853e-04, 6.2429e-02, 3.2945e-03, 1.9538e-02,\n",
            "         8.2856e-04, 4.0357e-02, 2.1790e-03, 8.6959e-01],\n",
            "        [6.9506e-02, 2.3841e-02, 7.1097e-01, 8.1415e-04, 3.2271e-02, 2.1526e-02,\n",
            "         1.1189e-01, 2.1212e-03, 2.5730e-02, 1.3297e-03],\n",
            "        [1.5483e-02, 9.8544e-03, 3.9771e-03, 5.6825e-01, 1.4703e-02, 1.3673e-02,\n",
            "         1.2150e-01, 2.0520e-01, 2.3054e-03, 4.5055e-02],\n",
            "        [8.9921e-03, 1.6613e-03, 1.6412e-02, 9.4354e-03, 2.2884e-02, 5.8142e-04,\n",
            "         9.2097e-01, 1.6759e-02, 4.2578e-04, 1.8807e-03],\n",
            "        [2.5335e-03, 6.0967e-03, 4.0020e-02, 8.9171e-03, 5.4478e-03, 8.6759e-01,\n",
            "         1.4042e-03, 1.2791e-03, 2.4201e-02, 4.2507e-02],\n",
            "        [7.2094e-01, 9.1936e-03, 2.6383e-02, 2.6427e-02, 1.5052e-03, 1.7312e-03,\n",
            "         4.9502e-02, 1.4727e-01, 7.0499e-03, 1.0002e-02],\n",
            "        [4.9060e-01, 1.0555e-01, 7.5040e-02, 4.6224e-02, 3.5334e-02, 3.0192e-03,\n",
            "         1.8796e-01, 2.7267e-02, 2.5938e-02, 3.0580e-03],\n",
            "        [1.2080e-02, 1.2211e-02, 4.9014e-03, 6.7438e-01, 1.6732e-02, 3.4576e-02,\n",
            "         4.5892e-02, 6.7435e-02, 7.3207e-03, 1.2447e-01],\n",
            "        [1.8901e-02, 9.2615e-04, 7.7054e-04, 6.8989e-02, 4.3573e-04, 1.7450e-03,\n",
            "         9.6547e-03, 8.7946e-01, 4.6366e-04, 1.8656e-02],\n",
            "        [6.1631e-01, 8.4749e-02, 9.6940e-02, 2.2437e-02, 1.9242e-02, 4.0701e-03,\n",
            "         7.1475e-02, 3.0177e-02, 5.0853e-02, 3.7442e-03],\n",
            "        [2.5260e-03, 8.9533e-03, 5.6468e-02, 3.5414e-02, 4.0517e-02, 6.8888e-01,\n",
            "         7.3984e-03, 1.3113e-03, 3.2259e-02, 1.2627e-01],\n",
            "        [3.0729e-03, 2.8397e-02, 1.8042e-02, 8.9098e-03, 8.9594e-01, 4.1345e-03,\n",
            "         1.6531e-02, 1.8373e-03, 1.6288e-02, 6.8463e-03],\n",
            "        [1.0457e-02, 1.1602e-03, 1.2514e-02, 2.9295e-02, 1.1831e-02, 1.2586e-03,\n",
            "         9.0396e-01, 2.5755e-02, 3.0564e-04, 3.4634e-03],\n",
            "        [1.2146e-02, 6.0315e-03, 8.7397e-04, 6.0593e-01, 1.4656e-03, 2.0785e-02,\n",
            "         5.3908e-03, 2.4351e-01, 6.2794e-03, 9.7582e-02],\n",
            "        [1.1146e-02, 3.7066e-02, 5.2051e-02, 1.4035e-02, 6.7221e-01, 4.7696e-03,\n",
            "         1.8594e-01, 6.2362e-03, 1.2282e-02, 4.2705e-03],\n",
            "        [5.1627e-03, 8.1547e-03, 2.1757e-03, 7.3899e-01, 1.9544e-02, 2.6612e-02,\n",
            "         1.2967e-02, 3.0214e-02, 7.2708e-03, 1.4891e-01],\n",
            "        [8.4876e-03, 1.5501e-02, 1.7352e-01, 1.6443e-03, 1.3876e-02, 4.3621e-01,\n",
            "         1.0074e-03, 1.2392e-03, 3.1141e-01, 3.7105e-02],\n",
            "        [1.0316e-02, 1.0472e-02, 1.4328e-01, 4.1061e-03, 8.3672e-03, 7.1776e-01,\n",
            "         2.3677e-03, 3.6631e-03, 6.1905e-02, 3.7754e-02],\n",
            "        [7.5157e-04, 2.9131e-04, 1.7985e-03, 3.7152e-02, 7.0368e-03, 1.6838e-02,\n",
            "         3.3240e-03, 2.5332e-02, 1.6842e-03, 9.0579e-01],\n",
            "        [9.0821e-03, 2.1808e-03, 1.2696e-02, 8.9878e-02, 1.9137e-02, 3.5962e-03,\n",
            "         8.3385e-01, 2.2157e-02, 6.2248e-04, 6.8050e-03],\n",
            "        [3.2795e-03, 4.0597e-04, 6.6985e-03, 3.5240e-02, 1.9689e-02, 1.0633e-02,\n",
            "         1.7279e-02, 7.6956e-02, 1.5227e-03, 8.2829e-01]])\n",
            "Accuracy = 94.0\n"
          ],
          "name": "stdout"
        }
      ]
    },
    {
      "cell_type": "markdown",
      "metadata": {
        "id": "6ES2pf1UC5VC",
        "colab_type": "text"
      },
      "source": [
        "**TRAINING RESULTS**"
      ]
    },
    {
      "cell_type": "code",
      "metadata": {
        "id": "LH1xJmub5wnc",
        "colab_type": "code",
        "colab": {
          "base_uri": "https://localhost:8080/",
          "height": 832
        },
        "outputId": "2c016443-b070-4135-9052-27e356c94e22"
      },
      "source": [
        "print(\"Total number of test samples = \" + str(len(scores)))\n",
        "print(\" \")\n",
        "print(\"Correct predictions = \" + str(correct))\n",
        "print(\" \")\n",
        "print(\"Accuracy = \" + str(((correct/len(scores))*100)) + \"%\") \n",
        "print(\" \")\n",
        "\n",
        "\n",
        "cfm = confusion_matrix(train_y, array)\n",
        "print(cfm)\n",
        "print(\" \")\n",
        "plt.imshow(cfm)\n",
        "plt.show()\n",
        "\n",
        "\n",
        "for i in range(len(loss)):\n",
        "  loss[i] = float(loss[i])\n",
        "\n",
        "\n",
        "plt.plot(loss)\n",
        "plt.xlabel('Epochs')\n",
        "plt.ylabel('Loss')\n",
        "plt.title('Training convergence plot')\n",
        "plt.show()"
      ],
      "execution_count": 7,
      "outputs": [
        {
          "output_type": "stream",
          "text": [
            "Total number of test samples = 50\n",
            " \n",
            "Correct predictions = 47\n",
            " \n",
            "Accuracy = 94.0%\n",
            " \n",
            "[[3 0 0 0 0 0 0 0 0 0]\n",
            " [0 2 0 0 0 0 0 0 0 0]\n",
            " [0 0 5 0 0 0 0 0 0 0]\n",
            " [0 0 0 6 0 0 0 0 0 0]\n",
            " [0 0 0 0 6 0 0 0 0 0]\n",
            " [0 0 0 0 0 6 0 0 1 0]\n",
            " [0 0 0 0 0 0 6 0 0 0]\n",
            " [0 0 0 0 0 0 0 5 0 0]\n",
            " [0 1 0 0 0 0 0 0 3 0]\n",
            " [0 0 0 0 0 0 0 1 0 5]]\n",
            " \n"
          ],
          "name": "stdout"
        },
        {
          "output_type": "display_data",
          "data": {
            "image/png": "[encoded data removed]",
            "text/plain": [
              "<Figure size 432x288 with 1 Axes>"
            ]
          },
          "metadata": {
            "tags": [],
            "needs_background": "light"
          }
        },
        {
          "output_type": "display_data",
          "data": {
            "image/png": "[encoded data removed]",
            "text/plain": [
              "<Figure size 432x288 with 1 Axes>"
            ]
          },
          "metadata": {
            "tags": [],
            "needs_background": "light"
          }
        }
      ]
    },
    {
      "cell_type": "markdown",
      "metadata": {
        "id": "k0bovHVVC9ut",
        "colab_type": "text"
      },
      "source": [
        "**MODEL ARCHITECTURE**"
      ]
    },
    {
      "cell_type": "code",
      "metadata": {
        "id": "NfE2JF9L52Jh",
        "colab_type": "code",
        "colab": {
          "base_uri": "https://localhost:8080/",
          "height": 119
        },
        "outputId": "23c35cf6-6590-4b1a-ba26-62dd0eb47d8f"
      },
      "source": [
        "lstm"
      ],
      "execution_count": 8,
      "outputs": [
        {
          "output_type": "execute_result",
          "data": {
            "text/plain": [
              "LSTM(\n",
              "  (rnn): LSTM(75, 10, num_layers=2, dropout=0.1)\n",
              "  (fc): Sequential(\n",
              "    (0): Linear(in_features=10, out_features=10, bias=True)\n",
              "  )\n",
              ")"
            ]
          },
          "metadata": {
            "tags": []
          },
          "execution_count": 8
        }
      ]
    },
    {
      "cell_type": "markdown",
      "metadata": {
        "id": "5v6p1gUQC_aj",
        "colab_type": "text"
      },
      "source": [
        "**TESTING RESULTS**"
      ]
    },
    {
      "cell_type": "code",
      "metadata": {
        "id": "9I4KWvzH56eo",
        "colab_type": "code",
        "colab": {
          "base_uri": "https://localhost:8080/",
          "height": 520
        },
        "outputId": "4d3de928-2f6a-4b05-91df-f54848806d73"
      },
      "source": [
        "correct = 0\n",
        "total = 0\n",
        "predict = []\n",
        "real = []\n",
        "\n",
        "\n",
        "with torch.no_grad():\n",
        "\n",
        "\n",
        "  #real_class = torch.Tensor(test_y).type(torch.LongTensor)\n",
        "  real_class = torch.Tensor(test_y_ohe)#.type(torch.LongTensor)\n",
        "  scores = lstm(torch.Tensor(test_x).permute(1,0,2))\n",
        "\n",
        "\n",
        "\n",
        "array = []\n",
        "for i in range(len(scores)):\n",
        "  k = scores[i]\n",
        "  m = torch.max(k)\n",
        "  for j in range(len(k)):\n",
        "    if(k[j] == m):\n",
        "      array.append(j)\n",
        "      break\n",
        "\n",
        "for i in range(len(scores)):\n",
        "  if(array[i] == int(test_y[i])):\n",
        "    correct = correct + 1\n",
        "\n",
        "print(\"Total number of test samples = \" + str(len(scores)))\n",
        "print(\" \")\n",
        "print(\"Correct predictions = \" + str(correct))\n",
        "print(\" \")\n",
        "print(\"Accuracy = \" + str((correct)/len(scores)*100) + \"%\") \n",
        "print(\" \")\n",
        "\n",
        "\n",
        "cfm = confusion_matrix(test_y, array)\n",
        "print(cfm)\n",
        "print(\" \")\n",
        "plt.imshow(cfm)\n",
        "plt.show()\n"
      ],
      "execution_count": 9,
      "outputs": [
        {
          "output_type": "stream",
          "text": [
            "Total number of test samples = 16\n",
            " \n",
            "Correct predictions = 11\n",
            " \n",
            "Accuracy = 68.75%\n",
            " \n",
            "[[2 0 0 0 1 0 0 0]\n",
            " [0 2 1 0 0 0 1 0]\n",
            " [0 0 1 0 0 0 0 0]\n",
            " [0 0 0 1 0 0 1 0]\n",
            " [0 0 0 0 1 0 0 0]\n",
            " [0 0 0 0 0 1 0 0]\n",
            " [0 0 0 1 0 0 1 0]\n",
            " [0 0 0 0 0 0 0 2]]\n",
            " \n"
          ],
          "name": "stdout"
        },
        {
          "output_type": "display_data",
          "data": {
            "image/png": "[encoded data removed]",
            "text/plain": [
              "<Figure size 432x288 with 1 Axes>"
            ]
          },
          "metadata": {
            "tags": [],
            "needs_background": "light"
          }
        }
      ]
    },
    {
      "cell_type": "markdown",
      "metadata": {
        "id": "Lzgo3HVJDF5w",
        "colab_type": "text"
      },
      "source": [
        "**SAVING MODEL WEIGHTS**"
      ]
    },
    {
      "cell_type": "code",
      "metadata": {
        "id": "8nNA5kJB9-0F",
        "colab_type": "code",
        "colab": {
          "base_uri": "https://localhost:8080/",
          "height": 71
        },
        "outputId": "700843ca-6b5b-44ea-bdf7-5766cf8f7c0c"
      },
      "source": [
        "torch.save(lstm , \"telugu_lstm_weights.pt\")"
      ],
      "execution_count": 10,
      "outputs": [
        {
          "output_type": "stream",
          "text": [
            "/usr/local/lib/python3.6/dist-packages/torch/serialization.py:402: UserWarning: Couldn't retrieve source code for container of type LSTM. It won't be checked for correctness upon loading.\n",
            "  \"type \" + obj.__name__ + \". It won't be checked \"\n"
          ],
          "name": "stderr"
        }
      ]
    }
  ]
}